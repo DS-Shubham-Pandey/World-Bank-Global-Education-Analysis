{
  "nbformat": 4,
  "nbformat_minor": 0,
  "metadata": {
    "kernelspec": {
      "display_name": "Python 3",
      "language": "python",
      "name": "python3"
    },
    "language_info": {
      "codemirror_mode": {
        "name": "ipython",
        "version": 3
      },
      "file_extension": ".py",
      "mimetype": "text/x-python",
      "name": "python",
      "nbconvert_exporter": "python",
      "pygments_lexer": "ipython3",
      "version": "3.6.6"
    },
    "colab": {
      "provenance": [],
      "toc_visible": true,
      "include_colab_link": true
    }
  },
  "cells": [
    {
      "cell_type": "markdown",
      "metadata": {
        "id": "view-in-github",
        "colab_type": "text"
      },
      "source": [
        "<a href=\"https://colab.research.google.com/github/DS-Shubham-Pandey/World-Bank-Global-Education-Analysis/blob/main/World_Bank_Global_Education_Analysis_Capstone_Project.ipynb\" target=\"_parent\"><img src=\"https://colab.research.google.com/assets/colab-badge.svg\" alt=\"Open In Colab\"/></a>"
      ]
    },
    {
      "cell_type": "markdown",
      "metadata": {
        "id": "Y06xIdG26kRF"
      },
      "source": [
        "## <b> The World Bank EdStats All Indicator Query holds over 4,000 internationally comparable indicators that describe education access, progression, completion, literacy, teachers, population, and expenditures.The indicators cover the education cycle from pre-primary to vocational and tertiary education and also holds learning outcome data from international and regional learning assessments (e.g. PISA, TIMSS, PIRLS), equity data from household surveys, and projection/attainment data. </b>\n",
        "\n",
        "## <b> Explore and analyze the data to identify variation of indicators across the globe, which countries are more alike and different. Feel free to add more extensive analyses and details.</b>"
      ]
    },
    {
      "cell_type": "markdown",
      "source": [
        "#**World Bank Global Education Analysis**\n",
        "***\n",
        "The World Bank EdStats All Indicator Query holds over 4,000 internationally comparable indicators that describe education access, progression, completion, literacy, teachers, population, and expenditures.The indicators cover the education cycle from pre-primary to vocational and tertiary education and also holds learning outcome data from international and regional learning assessments (e.g. PISA, TIMSS, PIRLS), equity data from household surveys, and projection/attainment data."
      ],
      "metadata": {
        "id": "Y5MDTxGCpILc"
      }
    },
    {
      "cell_type": "markdown",
      "source": [
        "***In this project I am going to analyze the World Bank EdStats Data in order to find out valuable insights***"
      ],
      "metadata": {
        "id": "JSQ-Z6tBpXMy"
      }
    },
    {
      "cell_type": "markdown",
      "source": [
        "##**<u>The following Countries have been selected for Analysis</u>:-**\n",
        "* **India->** IND\n",
        "* **United States->** USA\n",
        "* **United Kingdom->** GBR\n",
        "* **Australia->** AUS\n",
        "* **Germany->** DEU\n",
        "* **South Africa->** ZAF\n",
        "* **Canada->** CAN\n",
        "* **Japan->** JPN\n",
        "* **Sri Lanka->** LKA"
      ],
      "metadata": {
        "id": "04NfiUxWuRkj"
      }
    },
    {
      "cell_type": "markdown",
      "source": [
        "##**<u>The following Indicators have been chosen for analysis</u>:-**\n",
        "\n",
        "**Early Childhood Education**\n",
        "* Enrolment in early childhood education, both sexes (number) -**UIS.E.0.T**\n",
        "* Percentage of enrolment in pre-primary education in private institutions (%) - **SE.PRE.PRIV.ZS**\n",
        "\n",
        "**Expenditures**\n",
        "\n",
        "* Government expenditure on education as % of GDP (%) - **SE.XPD.TOTL.GD.ZS** \n",
        "* Expenditure on education as % of total government expenditure (%) **SE.XPD.TOTL.GB.ZS**\n",
        "\n",
        "**Literacy**\n",
        "\n",
        "* Adult literacy rate, population 15+ years, both sexes (%) - **SE.ADT.LITR.ZS**\n",
        "* Adult illiterate population, 15+ years, both sexes (number) - **UIS.LP.AG15T99**\n",
        "\n",
        "**Population**\n",
        "* School age population, pre-primary education, both sexes (number) - **SP.PRE.TOTL.IN**\n",
        "* School age population, primary education, both sexes (number) - **SP.PRM.TOTL.IN**\n",
        "* School age population, secondary education, both sexes (number) - **SP.SEC.TOTL.IN**\n",
        "* School age population, tertiary education, both sexes (number) - **SP.TER.TOTL.IN**\n",
        "\n",
        "**Learning Outcomes**\n",
        "* PISA: Mean performance on the Reading scale (number) - **LO.PISA.REA**\n",
        "* PISA: Mean performance on the Mathematics scale (number) - **LO.PISA.MAT**"
      ],
      "metadata": {
        "id": "PmU-vrvgupwP"
      }
    },
    {
      "cell_type": "code",
      "metadata": {
        "id": "dByMsuzT8Tnw"
      },
      "source": [],
      "execution_count": null,
      "outputs": []
    }
  ]
}